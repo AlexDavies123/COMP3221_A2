{
  "cells": [
    {
      "cell_type": "markdown",
      "metadata": {
        "id": "aJHvcKvtioC5"
      },
      "source": [
        "# COMP3221 - Distributed Systems"
      ]
    },
    {
      "cell_type": "markdown",
      "metadata": {
        "id": "ETFoZDDOioDE"
      },
      "source": [
        "## Week 6 - Tutorial - Federated Learning"
      ]
    },
    {
      "cell_type": "markdown",
      "metadata": {
        "id": "6WayYp1uioDG"
      },
      "source": [
        "**Objectives:**\n",
        "\n",
        "* To understand the basics of federated learning algorithm (FedAvg)\n",
        "* Using Pytorch to implement a federated learning system\n",
        "\n",
        "**Instructions:**\n",
        "* Exercises tend to be completed by **Python 3** programming language.\n",
        "* You can either use IPython notebook or just python files to finish the exercises.\n",
        "* To install IPython notebooks and Python 3, you can:\n",
        "   * Use IPython 3 (Jupyter) notebook installed on your computer: http://jupyter.org/install (you need to have Python installed first: https://docs.python.org/3/using/index.html )\n",
        "   * Use Web-based IPython notebooks such as Google Colaboratory: https://colab.research.google.com/   \n",
        "* Using the IPython notebook:\n",
        "  * If you are using Jupyter intalled on your computer, Go to *File -> Open*. Drag and drop the \"*.ipynb*\" file to the home interface and click upload.\n",
        "  * If you are using Google Colaboratory, Click *File -> Upload notebook*, and upload the \"*.ipynb*\" file.\n",
        "  * To run the code cells you can press *Ctrl-Enter* or hit the *Play* button at the top.\n",
        "* Using python files:\n",
        "  * We recommend using Visual Studio Code as IDE: https://code.visualstudio.com/\n",
        "  \n",
        "* Please complete all exercises marked with **TODO**.\n",
        "* Make sure to save your files when you are done with the exercises, so you can show your tutor next week."
      ]
    },
    {
      "cell_type": "markdown",
      "metadata": {
        "id": "anh2iGkbioDI"
      },
      "source": [
        "In this tutorial we will use **pytorch** to implement federated learning."
      ]
    },
    {
      "cell_type": "code",
      "execution_count": null,
      "metadata": {
        "id": "O1XLzLJBOTZS"
      },
      "outputs": [],
      "source": [
        "!pip install torch torchvision torchaudio"
      ]
    },
    {
      "cell_type": "code",
      "execution_count": 1,
      "metadata": {
        "id": "RDnJQvnRioDJ"
      },
      "outputs": [],
      "source": [
        "import torch\n",
        "import torch.nn as nn\n",
        "import torch.nn.functional as F\n",
        "from torch.utils.data import DataLoader\n",
        "\n",
        "from sklearn.datasets import make_regression\n",
        "from sklearn.model_selection import train_test_split\n",
        "\n",
        "import os\n",
        "import json\n",
        "import copy\n",
        "import random\n",
        "import numpy as np\n",
        "\n",
        "import matplotlib\n",
        "import matplotlib.pyplot as plt"
      ]
    },
    {
      "cell_type": "markdown",
      "metadata": {
        "id": "OcfpPqyqioDQ"
      },
      "source": [
        "### 1.1 Generate Synthetic Dataset for Linear Regression"
      ]
    },
    {
      "cell_type": "markdown",
      "metadata": {
        "id": "VJ3GskmtGtQM"
      },
      "source": [
        "We start by developing a function to generate a synthetic Linear Regression dataset for each client, using a linear equation and incorporating unique noise variations for each client."
      ]
    },
    {
      "cell_type": "code",
      "execution_count": 2,
      "metadata": {
        "id": "Z65f3O39eDg-"
      },
      "outputs": [],
      "source": [
        "def get_data(client_id):\n",
        "\n",
        "    np.random.seed(client_id)\n",
        "    n_samples = np.random.randint(800, 1000)\n",
        "    X = np.random.rand(n_samples)\n",
        "    y = 4 + 3 * X + (client_id/10.0)*np.random.randn(n_samples)\n",
        "\n",
        "    # Split the original dataset into a training set and a test set\n",
        "    X_train, X_test, y_train,  y_test = train_test_split(X, y, test_size = 0.2, random_state=client_id)\n",
        "\n",
        "    # Cast variables to torch type\n",
        "    X_train = torch.Tensor(X_train).view(-1,1).type(torch.float32)\n",
        "    y_train = torch.Tensor(y_train).type(torch.float32)\n",
        "    X_test = torch.Tensor(X_test).view(-1,1).type(torch.float32)\n",
        "    y_test = torch.Tensor(y_test).type(torch.float32)\n",
        "\n",
        "    # Training Size, Test Size\n",
        "    train_samples, test_samples = len(y_train), len(y_test)\n",
        "\n",
        "    return X_train, y_train, X_test, y_test, train_samples, test_samples"
      ]
    },
    {
      "cell_type": "markdown",
      "metadata": {
        "id": "-eh0JFFzioDY"
      },
      "source": [
        "**Preview some data examples from client 1**"
      ]
    },
    {
      "cell_type": "code",
      "execution_count": null,
      "metadata": {
        "id": "P414EdYpioDW"
      },
      "outputs": [
        {
          "ename": "",
          "evalue": "",
          "output_type": "error",
          "traceback": [
            "\u001b[1;31mRunning cells with '/opt/homebrew/bin/python3' requires the ipykernel package.\n",
            "\u001b[1;31mRun the following command to install 'ipykernel' into the Python environment. \n",
            "\u001b[1;31mCommand: '/opt/homebrew/bin/python3 -m pip install ipykernel -U --user --force-reinstall'"
          ]
        }
      ],
      "source": [
        "client_id = 1\n",
        "X_train, y_train, X_test, y_test, train_samples, test_samples= get_data(client_id)"
      ]
    },
    {
      "cell_type": "code",
      "execution_count": 4,
      "metadata": {
        "colab": {
          "base_uri": "https://localhost:8080/"
        },
        "id": "wS7llZm27kU0",
        "outputId": "c3235589-6319-4689-c575-e8d46376ba4f"
      },
      "outputs": [
        {
          "data": {
            "text/plain": [
              "(669, 168)"
            ]
          },
          "execution_count": 4,
          "metadata": {},
          "output_type": "execute_result"
        }
      ],
      "source": [
        "train_samples, test_samples"
      ]
    },
    {
      "cell_type": "code",
      "execution_count": 5,
      "metadata": {
        "colab": {
          "base_uri": "https://localhost:8080/",
          "height": 487
        },
        "id": "yRgL4PMMAStn",
        "outputId": "da0b1176-3f6f-4eb4-e5ec-7bd3acfe5e1f"
      },
      "outputs": [
        {
          "data": {
            "image/png": "[encoded data removed]",
            "text/plain": [
              "<Figure size 500x500 with 1 Axes>"
            ]
          },
          "metadata": {},
          "output_type": "display_data"
        }
      ],
      "source": [
        "# Plotting the first feature against the target to visualize the dataset\n",
        "plt.figure(figsize=(5, 5))\n",
        "plt.scatter(X_train, y_train, color='blue', label='Feature 0 vs Target')\n",
        "plt.title('Visualization of the First Feature vs. Target')\n",
        "plt.xlabel('Feature 0')\n",
        "plt.ylabel('Target')\n",
        "plt.legend()\n",
        "plt.show()"
      ]
    },
    {
      "cell_type": "markdown",
      "metadata": {
        "id": "9neQBFp8DJ5h"
      },
      "source": [
        "**Preview some data examples from client 3**"
      ]
    },
    {
      "cell_type": "code",
      "execution_count": 6,
      "metadata": {
        "id": "cIe6gfZFDJ5n"
      },
      "outputs": [],
      "source": [
        "client_id = 3\n",
        "X_train, y_train, X_test, y_test, train_samples, test_samples= get_data(client_id)"
      ]
    },
    {
      "cell_type": "code",
      "execution_count": 7,
      "metadata": {
        "colab": {
          "base_uri": "https://localhost:8080/"
        },
        "id": "ZJI9kTXDDJ5n",
        "outputId": "24477f80-2d0e-484d-abed-4332622bf072"
      },
      "outputs": [
        {
          "data": {
            "text/plain": [
              "(724, 182)"
            ]
          },
          "execution_count": 7,
          "metadata": {},
          "output_type": "execute_result"
        }
      ],
      "source": [
        "train_samples, test_samples"
      ]
    },
    {
      "cell_type": "code",
      "execution_count": 8,
      "metadata": {
        "colab": {
          "base_uri": "https://localhost:8080/",
          "height": 487
        },
        "id": "01DFTWtzDJ5n",
        "outputId": "f2a45265-8fd9-46f7-c540-5a1dab1a121c"
      },
      "outputs": [
        {
          "data": {
            "image/png": "[encoded data removed]",
            "text/plain": [
              "<Figure size 500x500 with 1 Axes>"
            ]
          },
          "metadata": {},
          "output_type": "display_data"
        }
      ],
      "source": [
        "# Plotting the first feature against the target to visualize the dataset\n",
        "plt.figure(figsize=(5, 5))\n",
        "plt.scatter(X_train, y_train, color='blue', label='Feature 0 vs Target')\n",
        "plt.title('Visualization of the First Feature vs. Target')\n",
        "plt.xlabel('Feature 0')\n",
        "plt.ylabel('Target')\n",
        "plt.legend()\n",
        "plt.show()"
      ]
    },
    {
      "cell_type": "markdown",
      "metadata": {
        "id": "vSAK0UsaioDb"
      },
      "source": [
        "### 1.2 Machine Learning model"
      ]
    },
    {
      "cell_type": "markdown",
      "metadata": {
        "id": "kNjk5v_yioDc"
      },
      "source": [
        "Next, we define a linear regression model using the well-known Pytorch library. The definition of the model is defined as follows:"
      ]
    },
    {
      "cell_type": "code",
      "execution_count": 9,
      "metadata": {
        "id": "_uQqm6hSioDd"
      },
      "outputs": [],
      "source": [
        "class LinearRegressionModel(nn.Module):\n",
        "    def __init__(self, input_size = 1):\n",
        "        super(LinearRegressionModel, self).__init__()\n",
        "        # Create a linear transformation to the incoming data\n",
        "        self.linear = nn.Linear(input_size, 1)\n",
        "\n",
        "    # Define how the model is going to be run, from input to output\n",
        "    def forward(self, x):\n",
        "        # Apply linear transformation\n",
        "        output = self.linear(x)\n",
        "        return output.reshape(-1)"
      ]
    },
    {
      "cell_type": "markdown",
      "metadata": {
        "id": "jmT_TYdkioDe"
      },
      "source": [
        "### 1.3 Federated learning algorithms"
      ]
    },
    {
      "cell_type": "markdown",
      "metadata": {
        "id": "wHXKKEv0HKPQ"
      },
      "source": [
        "<img src=\"https://raw.githubusercontent.com/longtanle/distributed_systems_tutorials/main/w6/Algorithms.png\" width=600>"
      ]
    },
    {
      "cell_type": "markdown",
      "metadata": {
        "id": "nk7jCNhMioDf"
      },
      "source": [
        "### 1.4 Define Client"
      ]
    },
    {
      "cell_type": "markdown",
      "metadata": {
        "id": "Z_2qAGYPioDg"
      },
      "source": [
        "Each client has 3 main functions.\n",
        "- **set_parameters**: receive a global model from the server, replace its local model with the global model.\n",
        "- **train**: using the new global model to continue training to obtain a new local model.\n",
        "- **test**: evaluate the global model receiving from the server."
      ]
    },
    {
      "cell_type": "code",
      "execution_count": 10,
      "metadata": {
        "id": "YRXjJ7KbioDh"
      },
      "outputs": [],
      "source": [
        "class UserAVG():\n",
        "    def __init__(self, client_id, model, learning_rate, batch_size):\n",
        "\n",
        "        self.X_train, self.y_train, self.X_test, self.y_test, self.train_samples, self.test_samples = get_data(client_id)\n",
        "\n",
        "        self.train_data = [(x, y) for x, y in zip(self.X_train, self.y_train)]\n",
        "        self.test_data = [(x, y) for x, y in zip(self.X_test, self.y_test)]\n",
        "\n",
        "        # Define dataloader for iterable sample over a dataset\n",
        "        self.trainloader = DataLoader(self.train_data, batch_size = batch_size)\n",
        "        self.testloader = DataLoader(self.test_data, batch_size = self.test_samples)\n",
        "\n",
        "        # Define the Mean Square Error Loss\n",
        "        self.loss = nn.MSELoss()\n",
        "\n",
        "        self.model = copy.deepcopy(model)\n",
        "\n",
        "        self.id = client_id\n",
        "\n",
        "        # Define the Gradient Descent optimizer\n",
        "        self.optimizer = torch.optim.SGD(self.model.parameters(), lr=learning_rate)\n",
        "\n",
        "    def set_parameters(self, model):\n",
        "        for old_param, new_param in zip(self.model.parameters(), model.parameters()):\n",
        "            old_param.data = new_param.data.clone()\n",
        "\n",
        "    def train(self, epochs):\n",
        "        LOSS = 0\n",
        "        self.model.train()\n",
        "        for epoch in range(1, epochs + 1):\n",
        "            self.model.train()\n",
        "            for batch_idx, (X, y) in enumerate(self.trainloader):\n",
        "                self.optimizer.zero_grad()\n",
        "                output = self.model(X)\n",
        "                loss = self.loss(output, y)\n",
        "                loss.backward()\n",
        "                self.optimizer.step()\n",
        "        return loss.data\n",
        "\n",
        "    def test(self):\n",
        "        self.model.eval()\n",
        "        mse = 0\n",
        "        for x, y in self.testloader:\n",
        "            y_pred = self.model(x)\n",
        "            # Calculate evaluation metrics\n",
        "            mse += self.loss(y_pred, y)\n",
        "            print(str(self.id) + \", MSE of client \",self.id, \" is: \", mse)\n",
        "        return mse"
      ]
    },
    {
      "cell_type": "markdown",
      "metadata": {
        "id": "wcvhFPqmioDi"
      },
      "source": [
        "### 1.4 Define Server"
      ]
    },
    {
      "cell_type": "markdown",
      "metadata": {
        "id": "PHF9xl8LioDi"
      },
      "source": [
        "The server has 3 main functions:\n",
        "- **send_parameters**: broadcast the global model to all clients\n",
        "- **aggregate_parameters**: aggregate new global model from local models of all clients.\n",
        "- **evaluate**: evaluate the global model across all clients"
      ]
    },
    {
      "cell_type": "code",
      "execution_count": 11,
      "metadata": {
        "id": "u59AoiVrioDj"
      },
      "outputs": [],
      "source": [
        "def send_parameters(server_model, users):\n",
        "    for user in users:\n",
        "        user.set_parameters(server_model)\n",
        "\n",
        "def aggregate_parameters(server_model, users, total_train_samples):\n",
        "    # Clear global model before aggregation\n",
        "    for param in server_model.parameters():\n",
        "        param.data = torch.zeros_like(param.data)\n",
        "\n",
        "    for user in users:\n",
        "        for server_param, user_param in zip(server_model.parameters(), user.model.parameters()):\n",
        "            server_param.data = server_param.data + user_param.data.clone() * user.train_samples / total_train_samples\n",
        "    return server_model\n",
        "\n",
        "def evaluate(users):\n",
        "    total_mse = 0\n",
        "    for user in users:\n",
        "        total_mse += user.test()\n",
        "    return total_mse/len(users)"
      ]
    },
    {
      "cell_type": "markdown",
      "metadata": {
        "id": "nI8UoKi5ioDk"
      },
      "source": [
        "### 1.5 Create a federated learning network with 5 clients"
      ]
    },
    {
      "cell_type": "code",
      "execution_count": 12,
      "metadata": {
        "id": "IhC3LcvXioDl"
      },
      "outputs": [],
      "source": [
        "# Init parameters\n",
        "num_user = 5\n",
        "users = []\n",
        "server_model = LinearRegressionModel()\n",
        "batch_size = 64\n",
        "learning_rate = 0.01\n",
        "num_glob_iters = 100 # No. of global rounds\n",
        "\n",
        "# TODO:  Create a federate learning network with 5 clients and append it to users list.\n",
        "total_train_samples = 0\n",
        "for i in range(1,num_user+1):\n",
        "    user = UserAVG(i, server_model, learning_rate, batch_size)\n",
        "    users.append(user)\n",
        "    total_train_samples += user.train_samples\n",
        "    send_parameters(server_model, users)"
      ]
    },
    {
      "cell_type": "code",
      "execution_count": 13,
      "metadata": {
        "colab": {
          "base_uri": "https://localhost:8080/"
        },
        "id": "0zmdYvCZioDl",
        "outputId": "69bf37c5-c680-42a9-94ac-1fbd0cbd1090"
      },
      "outputs": [
        {
          "name": "stdout",
          "output_type": "stream",
          "text": [
            "1, MSE of client  1  is:  tensor(26.3523, grad_fn=<AddBackward0>)\n",
            "2, MSE of client  2  is:  tensor(25.6370, grad_fn=<AddBackward0>)\n",
            "3, MSE of client  3  is:  tensor(26.4240, grad_fn=<AddBackward0>)\n",
            "4, MSE of client  4  is:  tensor(25.4382, grad_fn=<AddBackward0>)\n",
            "5, MSE of client  5  is:  tensor(26.0938, grad_fn=<AddBackward0>)\n",
            "Global Round: 1 Average MSE across all clients :  tensor(25.9891, grad_fn=<DivBackward0>)\n",
            "1, MSE of client  1  is:  tensor(7.8037, grad_fn=<AddBackward0>)\n",
            "2, MSE of client  2  is:  tensor(7.5695, grad_fn=<AddBackward0>)\n",
            "3, MSE of client  3  is:  tensor(7.8049, grad_fn=<AddBackward0>)\n",
            "4, MSE of client  4  is:  tensor(7.5803, grad_fn=<AddBackward0>)\n",
            "5, MSE of client  5  is:  tensor(7.8945, grad_fn=<AddBackward0>)\n",
            "Global Round: 2 Average MSE across all clients :  tensor(7.7306, grad_fn=<DivBackward0>)\n",
            "1, MSE of client  1  is:  tensor(2.3894, grad_fn=<AddBackward0>)\n",
            "2, MSE of client  2  is:  tensor(2.3173, grad_fn=<AddBackward0>)\n",
            "3, MSE of client  3  is:  tensor(2.3829, grad_fn=<AddBackward0>)\n",
            "4, MSE of client  4  is:  tensor(2.3902, grad_fn=<AddBackward0>)\n",
            "5, MSE of client  5  is:  tensor(2.5951, grad_fn=<AddBackward0>)\n",
            "Global Round: 3 Average MSE across all clients :  tensor(2.4150, grad_fn=<DivBackward0>)\n",
            "1, MSE of client  1  is:  tensor(0.8022, grad_fn=<AddBackward0>)\n",
            "2, MSE of client  2  is:  tensor(0.7886, grad_fn=<AddBackward0>)\n",
            "3, MSE of client  3  is:  tensor(0.8013, grad_fn=<AddBackward0>)\n",
            "4, MSE of client  4  is:  tensor(0.8797, grad_fn=<AddBackward0>)\n",
            "5, MSE of client  5  is:  tensor(1.0480, grad_fn=<AddBackward0>)\n",
            "Global Round: 4 Average MSE across all clients :  tensor(0.8640, grad_fn=<DivBackward0>)\n",
            "1, MSE of client  1  is:  tensor(0.3316, grad_fn=<AddBackward0>)\n",
            "2, MSE of client  2  is:  tensor(0.3409, grad_fn=<AddBackward0>)\n",
            "3, MSE of client  3  is:  tensor(0.3374, grad_fn=<AddBackward0>)\n",
            "4, MSE of client  4  is:  tensor(0.4373, grad_fn=<AddBackward0>)\n",
            "5, MSE of client  5  is:  tensor(0.5926, grad_fn=<AddBackward0>)\n",
            "Global Round: 5 Average MSE across all clients :  tensor(0.4079, grad_fn=<DivBackward0>)\n",
            "1, MSE of client  1  is:  tensor(0.1877, grad_fn=<AddBackward0>)\n",
            "2, MSE of client  2  is:  tensor(0.2066, grad_fn=<AddBackward0>)\n",
            "3, MSE of client  3  is:  tensor(0.1989, grad_fn=<AddBackward0>)\n",
            "4, MSE of client  4  is:  tensor(0.3045, grad_fn=<AddBackward0>)\n",
            "5, MSE of client  5  is:  tensor(0.4549, grad_fn=<AddBackward0>)\n",
            "Global Round: 6 Average MSE across all clients :  tensor(0.2705, grad_fn=<DivBackward0>)\n",
            "1, MSE of client  1  is:  tensor(0.1399, grad_fn=<AddBackward0>)\n",
            "2, MSE of client  2  is:  tensor(0.1631, grad_fn=<AddBackward0>)\n",
            "3, MSE of client  3  is:  tensor(0.1552, grad_fn=<AddBackward0>)\n",
            "4, MSE of client  4  is:  tensor(0.2614, grad_fn=<AddBackward0>)\n",
            "5, MSE of client  5  is:  tensor(0.4099, grad_fn=<AddBackward0>)\n",
            "Global Round: 7 Average MSE across all clients :  tensor(0.2259, grad_fn=<DivBackward0>)\n",
            "1, MSE of client  1  is:  tensor(0.1207, grad_fn=<AddBackward0>)\n",
            "2, MSE of client  2  is:  tensor(0.1460, grad_fn=<AddBackward0>)\n",
            "3, MSE of client  3  is:  tensor(0.1393, grad_fn=<AddBackward0>)\n",
            "4, MSE of client  4  is:  tensor(0.2444, grad_fn=<AddBackward0>)\n",
            "5, MSE of client  5  is:  tensor(0.3921, grad_fn=<AddBackward0>)\n",
            "Global Round: 8 Average MSE across all clients :  tensor(0.2085, grad_fn=<DivBackward0>)\n",
            "1, MSE of client  1  is:  tensor(0.1104, grad_fn=<AddBackward0>)\n",
            "2, MSE of client  2  is:  tensor(0.1367, grad_fn=<AddBackward0>)\n",
            "3, MSE of client  3  is:  tensor(0.1316, grad_fn=<AddBackward0>)\n",
            "4, MSE of client  4  is:  tensor(0.2352, grad_fn=<AddBackward0>)\n",
            "5, MSE of client  5  is:  tensor(0.3826, grad_fn=<AddBackward0>)\n",
            "Global Round: 9 Average MSE across all clients :  tensor(0.1993, grad_fn=<DivBackward0>)\n",
            "1, MSE of client  1  is:  tensor(0.1031, grad_fn=<AddBackward0>)\n",
            "2, MSE of client  2  is:  tensor(0.1299, grad_fn=<AddBackward0>)\n",
            "3, MSE of client  3  is:  tensor(0.1266, grad_fn=<AddBackward0>)\n",
            "4, MSE of client  4  is:  tensor(0.2284, grad_fn=<AddBackward0>)\n",
            "5, MSE of client  5  is:  tensor(0.3757, grad_fn=<AddBackward0>)\n",
            "Global Round: 10 Average MSE across all clients :  tensor(0.1927, grad_fn=<DivBackward0>)\n",
            "1, MSE of client  1  is:  tensor(0.0969, grad_fn=<AddBackward0>)\n",
            "2, MSE of client  2  is:  tensor(0.1239, grad_fn=<AddBackward0>)\n",
            "3, MSE of client  3  is:  tensor(0.1224, grad_fn=<AddBackward0>)\n",
            "4, MSE of client  4  is:  tensor(0.2225, grad_fn=<AddBackward0>)\n",
            "5, MSE of client  5  is:  tensor(0.3698, grad_fn=<AddBackward0>)\n",
            "Global Round: 11 Average MSE across all clients :  tensor(0.1871, grad_fn=<DivBackward0>)\n",
            "1, MSE of client  1  is:  tensor(0.0913, grad_fn=<AddBackward0>)\n",
            "2, MSE of client  2  is:  tensor(0.1185, grad_fn=<AddBackward0>)\n",
            "3, MSE of client  3  is:  tensor(0.1187, grad_fn=<AddBackward0>)\n",
            "4, MSE of client  4  is:  tensor(0.2172, grad_fn=<AddBackward0>)\n",
            "5, MSE of client  5  is:  tensor(0.3646, grad_fn=<AddBackward0>)\n",
            "Global Round: 12 Average MSE across all clients :  tensor(0.1821, grad_fn=<DivBackward0>)\n",
            "1, MSE of client  1  is:  tensor(0.0862, grad_fn=<AddBackward0>)\n",
            "2, MSE of client  2  is:  tensor(0.1134, grad_fn=<AddBackward0>)\n",
            "3, MSE of client  3  is:  tensor(0.1153, grad_fn=<AddBackward0>)\n",
            "4, MSE of client  4  is:  tensor(0.2123, grad_fn=<AddBackward0>)\n",
            "5, MSE of client  5  is:  tensor(0.3597, grad_fn=<AddBackward0>)\n",
            "Global Round: 13 Average MSE across all clients :  tensor(0.1774, grad_fn=<DivBackward0>)\n",
            "1, MSE of client  1  is:  tensor(0.0814, grad_fn=<AddBackward0>)\n",
            "2, MSE of client  2  is:  tensor(0.1087, grad_fn=<AddBackward0>)\n",
            "3, MSE of client  3  is:  tensor(0.1122, grad_fn=<AddBackward0>)\n",
            "4, MSE of client  4  is:  tensor(0.2077, grad_fn=<AddBackward0>)\n",
            "5, MSE of client  5  is:  tensor(0.3551, grad_fn=<AddBackward0>)\n",
            "Global Round: 14 Average MSE across all clients :  tensor(0.1730, grad_fn=<DivBackward0>)\n",
            "1, MSE of client  1  is:  tensor(0.0769, grad_fn=<AddBackward0>)\n",
            "2, MSE of client  2  is:  tensor(0.1042, grad_fn=<AddBackward0>)\n",
            "3, MSE of client  3  is:  tensor(0.1093, grad_fn=<AddBackward0>)\n",
            "4, MSE of client  4  is:  tensor(0.2034, grad_fn=<AddBackward0>)\n",
            "5, MSE of client  5  is:  tensor(0.3508, grad_fn=<AddBackward0>)\n",
            "Global Round: 15 Average MSE across all clients :  tensor(0.1689, grad_fn=<DivBackward0>)\n",
            "1, MSE of client  1  is:  tensor(0.0727, grad_fn=<AddBackward0>)\n",
            "2, MSE of client  2  is:  tensor(0.1000, grad_fn=<AddBackward0>)\n",
            "3, MSE of client  3  is:  tensor(0.1066, grad_fn=<AddBackward0>)\n",
            "4, MSE of client  4  is:  tensor(0.1994, grad_fn=<AddBackward0>)\n",
            "5, MSE of client  5  is:  tensor(0.3469, grad_fn=<AddBackward0>)\n",
            "Global Round: 16 Average MSE across all clients :  tensor(0.1651, grad_fn=<DivBackward0>)\n",
            "1, MSE of client  1  is:  tensor(0.0688, grad_fn=<AddBackward0>)\n",
            "2, MSE of client  2  is:  tensor(0.0961, grad_fn=<AddBackward0>)\n",
            "3, MSE of client  3  is:  tensor(0.1041, grad_fn=<AddBackward0>)\n",
            "4, MSE of client  4  is:  tensor(0.1957, grad_fn=<AddBackward0>)\n",
            "5, MSE of client  5  is:  tensor(0.3432, grad_fn=<AddBackward0>)\n",
            "Global Round: 17 Average MSE across all clients :  tensor(0.1616, grad_fn=<DivBackward0>)\n",
            "1, MSE of client  1  is:  tensor(0.0651, grad_fn=<AddBackward0>)\n",
            "2, MSE of client  2  is:  tensor(0.0924, grad_fn=<AddBackward0>)\n",
            "3, MSE of client  3  is:  tensor(0.1017, grad_fn=<AddBackward0>)\n",
            "4, MSE of client  4  is:  tensor(0.1922, grad_fn=<AddBackward0>)\n",
            "5, MSE of client  5  is:  tensor(0.3397, grad_fn=<AddBackward0>)\n",
            "Global Round: 18 Average MSE across all clients :  tensor(0.1582, grad_fn=<DivBackward0>)\n",
            "1, MSE of client  1  is:  tensor(0.0617, grad_fn=<AddBackward0>)\n",
            "2, MSE of client  2  is:  tensor(0.0889, grad_fn=<AddBackward0>)\n",
            "3, MSE of client  3  is:  tensor(0.0996, grad_fn=<AddBackward0>)\n",
            "4, MSE of client  4  is:  tensor(0.1890, grad_fn=<AddBackward0>)\n",
            "5, MSE of client  5  is:  tensor(0.3364, grad_fn=<AddBackward0>)\n",
            "Global Round: 19 Average MSE across all clients :  tensor(0.1551, grad_fn=<DivBackward0>)\n",
            "1, MSE of client  1  is:  tensor(0.0584, grad_fn=<AddBackward0>)\n",
            "2, MSE of client  2  is:  tensor(0.0856, grad_fn=<AddBackward0>)\n",
            "3, MSE of client  3  is:  tensor(0.0976, grad_fn=<AddBackward0>)\n",
            "4, MSE of client  4  is:  tensor(0.1859, grad_fn=<AddBackward0>)\n",
            "5, MSE of client  5  is:  tensor(0.3334, grad_fn=<AddBackward0>)\n",
            "Global Round: 20 Average MSE across all clients :  tensor(0.1522, grad_fn=<DivBackward0>)\n",
            "1, MSE of client  1  is:  tensor(0.0554, grad_fn=<AddBackward0>)\n",
            "2, MSE of client  2  is:  tensor(0.0826, grad_fn=<AddBackward0>)\n",
            "3, MSE of client  3  is:  tensor(0.0958, grad_fn=<AddBackward0>)\n",
            "4, MSE of client  4  is:  tensor(0.1831, grad_fn=<AddBackward0>)\n",
            "5, MSE of client  5  is:  tensor(0.3306, grad_fn=<AddBackward0>)\n",
            "Global Round: 21 Average MSE across all clients :  tensor(0.1495, grad_fn=<DivBackward0>)\n",
            "1, MSE of client  1  is:  tensor(0.0526, grad_fn=<AddBackward0>)\n",
            "2, MSE of client  2  is:  tensor(0.0797, grad_fn=<AddBackward0>)\n",
            "3, MSE of client  3  is:  tensor(0.0941, grad_fn=<AddBackward0>)\n",
            "4, MSE of client  4  is:  tensor(0.1805, grad_fn=<AddBackward0>)\n",
            "5, MSE of client  5  is:  tensor(0.3280, grad_fn=<AddBackward0>)\n",
            "Global Round: 22 Average MSE across all clients :  tensor(0.1470, grad_fn=<DivBackward0>)\n",
            "1, MSE of client  1  is:  tensor(0.0500, grad_fn=<AddBackward0>)\n",
            "2, MSE of client  2  is:  tensor(0.0770, grad_fn=<AddBackward0>)\n",
            "3, MSE of client  3  is:  tensor(0.0926, grad_fn=<AddBackward0>)\n",
            "4, MSE of client  4  is:  tensor(0.1780, grad_fn=<AddBackward0>)\n",
            "5, MSE of client  5  is:  tensor(0.3255, grad_fn=<AddBackward0>)\n",
            "Global Round: 23 Average MSE across all clients :  tensor(0.1446, grad_fn=<DivBackward0>)\n",
            "1, MSE of client  1  is:  tensor(0.0475, grad_fn=<AddBackward0>)\n",
            "2, MSE of client  2  is:  tensor(0.0744, grad_fn=<AddBackward0>)\n",
            "3, MSE of client  3  is:  tensor(0.0911, grad_fn=<AddBackward0>)\n",
            "4, MSE of client  4  is:  tensor(0.1757, grad_fn=<AddBackward0>)\n",
            "5, MSE of client  5  is:  tensor(0.3232, grad_fn=<AddBackward0>)\n",
            "Global Round: 24 Average MSE across all clients :  tensor(0.1424, grad_fn=<DivBackward0>)\n",
            "1, MSE of client  1  is:  tensor(0.0452, grad_fn=<AddBackward0>)\n",
            "2, MSE of client  2  is:  tensor(0.0721, grad_fn=<AddBackward0>)\n",
            "3, MSE of client  3  is:  tensor(0.0898, grad_fn=<AddBackward0>)\n",
            "4, MSE of client  4  is:  tensor(0.1736, grad_fn=<AddBackward0>)\n",
            "5, MSE of client  5  is:  tensor(0.3211, grad_fn=<AddBackward0>)\n",
            "Global Round: 25 Average MSE across all clients :  tensor(0.1403, grad_fn=<DivBackward0>)\n",
            "1, MSE of client  1  is:  tensor(0.0430, grad_fn=<AddBackward0>)\n",
            "2, MSE of client  2  is:  tensor(0.0698, grad_fn=<AddBackward0>)\n",
            "3, MSE of client  3  is:  tensor(0.0886, grad_fn=<AddBackward0>)\n",
            "4, MSE of client  4  is:  tensor(0.1716, grad_fn=<AddBackward0>)\n",
            "5, MSE of client  5  is:  tensor(0.3191, grad_fn=<AddBackward0>)\n",
            "Global Round: 26 Average MSE across all clients :  tensor(0.1384, grad_fn=<DivBackward0>)\n",
            "1, MSE of client  1  is:  tensor(0.0410, grad_fn=<AddBackward0>)\n",
            "2, MSE of client  2  is:  tensor(0.0677, grad_fn=<AddBackward0>)\n",
            "3, MSE of client  3  is:  tensor(0.0875, grad_fn=<AddBackward0>)\n",
            "4, MSE of client  4  is:  tensor(0.1698, grad_fn=<AddBackward0>)\n",
            "5, MSE of client  5  is:  tensor(0.3172, grad_fn=<AddBackward0>)\n",
            "Global Round: 27 Average MSE across all clients :  tensor(0.1366, grad_fn=<DivBackward0>)\n",
            "1, MSE of client  1  is:  tensor(0.0391, grad_fn=<AddBackward0>)\n",
            "2, MSE of client  2  is:  tensor(0.0658, grad_fn=<AddBackward0>)\n",
            "3, MSE of client  3  is:  tensor(0.0865, grad_fn=<AddBackward0>)\n",
            "4, MSE of client  4  is:  tensor(0.1680, grad_fn=<AddBackward0>)\n",
            "5, MSE of client  5  is:  tensor(0.3154, grad_fn=<AddBackward0>)\n",
            "Global Round: 28 Average MSE across all clients :  tensor(0.1350, grad_fn=<DivBackward0>)\n",
            "1, MSE of client  1  is:  tensor(0.0373, grad_fn=<AddBackward0>)\n",
            "2, MSE of client  2  is:  tensor(0.0639, grad_fn=<AddBackward0>)\n",
            "3, MSE of client  3  is:  tensor(0.0855, grad_fn=<AddBackward0>)\n",
            "4, MSE of client  4  is:  tensor(0.1664, grad_fn=<AddBackward0>)\n",
            "5, MSE of client  5  is:  tensor(0.3138, grad_fn=<AddBackward0>)\n",
            "Global Round: 29 Average MSE across all clients :  tensor(0.1334, grad_fn=<DivBackward0>)\n",
            "1, MSE of client  1  is:  tensor(0.0356, grad_fn=<AddBackward0>)\n",
            "2, MSE of client  2  is:  tensor(0.0622, grad_fn=<AddBackward0>)\n",
            "3, MSE of client  3  is:  tensor(0.0847, grad_fn=<AddBackward0>)\n",
            "4, MSE of client  4  is:  tensor(0.1649, grad_fn=<AddBackward0>)\n",
            "5, MSE of client  5  is:  tensor(0.3123, grad_fn=<AddBackward0>)\n",
            "Global Round: 30 Average MSE across all clients :  tensor(0.1319, grad_fn=<DivBackward0>)\n",
            "1, MSE of client  1  is:  tensor(0.0341, grad_fn=<AddBackward0>)\n",
            "2, MSE of client  2  is:  tensor(0.0605, grad_fn=<AddBackward0>)\n",
            "3, MSE of client  3  is:  tensor(0.0839, grad_fn=<AddBackward0>)\n",
            "4, MSE of client  4  is:  tensor(0.1636, grad_fn=<AddBackward0>)\n",
            "5, MSE of client  5  is:  tensor(0.3109, grad_fn=<AddBackward0>)\n",
            "Global Round: 31 Average MSE across all clients :  tensor(0.1306, grad_fn=<DivBackward0>)\n",
            "1, MSE of client  1  is:  tensor(0.0326, grad_fn=<AddBackward0>)\n",
            "2, MSE of client  2  is:  tensor(0.0590, grad_fn=<AddBackward0>)\n",
            "3, MSE of client  3  is:  tensor(0.0832, grad_fn=<AddBackward0>)\n",
            "4, MSE of client  4  is:  tensor(0.1623, grad_fn=<AddBackward0>)\n",
            "5, MSE of client  5  is:  tensor(0.3096, grad_fn=<AddBackward0>)\n",
            "Global Round: 32 Average MSE across all clients :  tensor(0.1293, grad_fn=<DivBackward0>)\n",
            "1, MSE of client  1  is:  tensor(0.0312, grad_fn=<AddBackward0>)\n",
            "2, MSE of client  2  is:  tensor(0.0576, grad_fn=<AddBackward0>)\n",
            "3, MSE of client  3  is:  tensor(0.0825, grad_fn=<AddBackward0>)\n",
            "4, MSE of client  4  is:  tensor(0.1611, grad_fn=<AddBackward0>)\n",
            "5, MSE of client  5  is:  tensor(0.3084, grad_fn=<AddBackward0>)\n",
            "Global Round: 33 Average MSE across all clients :  tensor(0.1282, grad_fn=<DivBackward0>)\n",
            "1, MSE of client  1  is:  tensor(0.0300, grad_fn=<AddBackward0>)\n",
            "2, MSE of client  2  is:  tensor(0.0562, grad_fn=<AddBackward0>)\n",
            "3, MSE of client  3  is:  tensor(0.0819, grad_fn=<AddBackward0>)\n",
            "4, MSE of client  4  is:  tensor(0.1600, grad_fn=<AddBackward0>)\n",
            "5, MSE of client  5  is:  tensor(0.3072, grad_fn=<AddBackward0>)\n",
            "Global Round: 34 Average MSE across all clients :  tensor(0.1271, grad_fn=<DivBackward0>)\n",
            "1, MSE of client  1  is:  tensor(0.0288, grad_fn=<AddBackward0>)\n",
            "2, MSE of client  2  is:  tensor(0.0549, grad_fn=<AddBackward0>)\n",
            "3, MSE of client  3  is:  tensor(0.0814, grad_fn=<AddBackward0>)\n",
            "4, MSE of client  4  is:  tensor(0.1589, grad_fn=<AddBackward0>)\n",
            "5, MSE of client  5  is:  tensor(0.3062, grad_fn=<AddBackward0>)\n",
            "Global Round: 35 Average MSE across all clients :  tensor(0.1260, grad_fn=<DivBackward0>)\n",
            "1, MSE of client  1  is:  tensor(0.0276, grad_fn=<AddBackward0>)\n",
            "2, MSE of client  2  is:  tensor(0.0537, grad_fn=<AddBackward0>)\n",
            "3, MSE of client  3  is:  tensor(0.0809, grad_fn=<AddBackward0>)\n",
            "4, MSE of client  4  is:  tensor(0.1580, grad_fn=<AddBackward0>)\n",
            "5, MSE of client  5  is:  tensor(0.3052, grad_fn=<AddBackward0>)\n",
            "Global Round: 36 Average MSE across all clients :  tensor(0.1251, grad_fn=<DivBackward0>)\n",
            "1, MSE of client  1  is:  tensor(0.0266, grad_fn=<AddBackward0>)\n",
            "2, MSE of client  2  is:  tensor(0.0526, grad_fn=<AddBackward0>)\n",
            "3, MSE of client  3  is:  tensor(0.0805, grad_fn=<AddBackward0>)\n",
            "4, MSE of client  4  is:  tensor(0.1571, grad_fn=<AddBackward0>)\n",
            "5, MSE of client  5  is:  tensor(0.3043, grad_fn=<AddBackward0>)\n",
            "Global Round: 37 Average MSE across all clients :  tensor(0.1242, grad_fn=<DivBackward0>)\n",
            "1, MSE of client  1  is:  tensor(0.0256, grad_fn=<AddBackward0>)\n",
            "2, MSE of client  2  is:  tensor(0.0516, grad_fn=<AddBackward0>)\n",
            "3, MSE of client  3  is:  tensor(0.0801, grad_fn=<AddBackward0>)\n",
            "4, MSE of client  4  is:  tensor(0.1562, grad_fn=<AddBackward0>)\n",
            "5, MSE of client  5  is:  tensor(0.3034, grad_fn=<AddBackward0>)\n",
            "Global Round: 38 Average MSE across all clients :  tensor(0.1234, grad_fn=<DivBackward0>)\n",
            "1, MSE of client  1  is:  tensor(0.0247, grad_fn=<AddBackward0>)\n",
            "2, MSE of client  2  is:  tensor(0.0506, grad_fn=<AddBackward0>)\n",
            "3, MSE of client  3  is:  tensor(0.0797, grad_fn=<AddBackward0>)\n",
            "4, MSE of client  4  is:  tensor(0.1555, grad_fn=<AddBackward0>)\n",
            "5, MSE of client  5  is:  tensor(0.3026, grad_fn=<AddBackward0>)\n",
            "Global Round: 39 Average MSE across all clients :  tensor(0.1226, grad_fn=<DivBackward0>)\n",
            "1, MSE of client  1  is:  tensor(0.0239, grad_fn=<AddBackward0>)\n",
            "2, MSE of client  2  is:  tensor(0.0496, grad_fn=<AddBackward0>)\n",
            "3, MSE of client  3  is:  tensor(0.0794, grad_fn=<AddBackward0>)\n",
            "4, MSE of client  4  is:  tensor(0.1548, grad_fn=<AddBackward0>)\n",
            "5, MSE of client  5  is:  tensor(0.3019, grad_fn=<AddBackward0>)\n",
            "Global Round: 40 Average MSE across all clients :  tensor(0.1219, grad_fn=<DivBackward0>)\n",
            "1, MSE of client  1  is:  tensor(0.0231, grad_fn=<AddBackward0>)\n",
            "2, MSE of client  2  is:  tensor(0.0488, grad_fn=<AddBackward0>)\n",
            "3, MSE of client  3  is:  tensor(0.0791, grad_fn=<AddBackward0>)\n",
            "4, MSE of client  4  is:  tensor(0.1541, grad_fn=<AddBackward0>)\n",
            "5, MSE of client  5  is:  tensor(0.3012, grad_fn=<AddBackward0>)\n",
            "Global Round: 41 Average MSE across all clients :  tensor(0.1212, grad_fn=<DivBackward0>)\n",
            "1, MSE of client  1  is:  tensor(0.0223, grad_fn=<AddBackward0>)\n",
            "2, MSE of client  2  is:  tensor(0.0479, grad_fn=<AddBackward0>)\n",
            "3, MSE of client  3  is:  tensor(0.0789, grad_fn=<AddBackward0>)\n",
            "4, MSE of client  4  is:  tensor(0.1535, grad_fn=<AddBackward0>)\n",
            "5, MSE of client  5  is:  tensor(0.3005, grad_fn=<AddBackward0>)\n",
            "Global Round: 42 Average MSE across all clients :  tensor(0.1206, grad_fn=<DivBackward0>)\n",
            "1, MSE of client  1  is:  tensor(0.0216, grad_fn=<AddBackward0>)\n",
            "2, MSE of client  2  is:  tensor(0.0472, grad_fn=<AddBackward0>)\n",
            "3, MSE of client  3  is:  tensor(0.0787, grad_fn=<AddBackward0>)\n",
            "4, MSE of client  4  is:  tensor(0.1529, grad_fn=<AddBackward0>)\n",
            "5, MSE of client  5  is:  tensor(0.2999, grad_fn=<AddBackward0>)\n",
            "Global Round: 43 Average MSE across all clients :  tensor(0.1201, grad_fn=<DivBackward0>)\n",
            "1, MSE of client  1  is:  tensor(0.0209, grad_fn=<AddBackward0>)\n",
            "2, MSE of client  2  is:  tensor(0.0464, grad_fn=<AddBackward0>)\n",
            "3, MSE of client  3  is:  tensor(0.0785, grad_fn=<AddBackward0>)\n",
            "4, MSE of client  4  is:  tensor(0.1524, grad_fn=<AddBackward0>)\n",
            "5, MSE of client  5  is:  tensor(0.2994, grad_fn=<AddBackward0>)\n",
            "Global Round: 44 Average MSE across all clients :  tensor(0.1195, grad_fn=<DivBackward0>)\n",
            "1, MSE of client  1  is:  tensor(0.0203, grad_fn=<AddBackward0>)\n",
            "2, MSE of client  2  is:  tensor(0.0458, grad_fn=<AddBackward0>)\n",
            "3, MSE of client  3  is:  tensor(0.0783, grad_fn=<AddBackward0>)\n",
            "4, MSE of client  4  is:  tensor(0.1519, grad_fn=<AddBackward0>)\n",
            "5, MSE of client  5  is:  tensor(0.2989, grad_fn=<AddBackward0>)\n",
            "Global Round: 45 Average MSE across all clients :  tensor(0.1190, grad_fn=<DivBackward0>)\n",
            "1, MSE of client  1  is:  tensor(0.0198, grad_fn=<AddBackward0>)\n",
            "2, MSE of client  2  is:  tensor(0.0451, grad_fn=<AddBackward0>)\n",
            "3, MSE of client  3  is:  tensor(0.0782, grad_fn=<AddBackward0>)\n",
            "4, MSE of client  4  is:  tensor(0.1515, grad_fn=<AddBackward0>)\n",
            "5, MSE of client  5  is:  tensor(0.2984, grad_fn=<AddBackward0>)\n",
            "Global Round: 46 Average MSE across all clients :  tensor(0.1186, grad_fn=<DivBackward0>)\n",
            "1, MSE of client  1  is:  tensor(0.0192, grad_fn=<AddBackward0>)\n",
            "2, MSE of client  2  is:  tensor(0.0445, grad_fn=<AddBackward0>)\n",
            "3, MSE of client  3  is:  tensor(0.0780, grad_fn=<AddBackward0>)\n",
            "4, MSE of client  4  is:  tensor(0.1511, grad_fn=<AddBackward0>)\n",
            "5, MSE of client  5  is:  tensor(0.2980, grad_fn=<AddBackward0>)\n",
            "Global Round: 47 Average MSE across all clients :  tensor(0.1182, grad_fn=<DivBackward0>)\n",
            "1, MSE of client  1  is:  tensor(0.0187, grad_fn=<AddBackward0>)\n",
            "2, MSE of client  2  is:  tensor(0.0440, grad_fn=<AddBackward0>)\n",
            "3, MSE of client  3  is:  tensor(0.0779, grad_fn=<AddBackward0>)\n",
            "4, MSE of client  4  is:  tensor(0.1507, grad_fn=<AddBackward0>)\n",
            "5, MSE of client  5  is:  tensor(0.2976, grad_fn=<AddBackward0>)\n",
            "Global Round: 48 Average MSE across all clients :  tensor(0.1178, grad_fn=<DivBackward0>)\n",
            "1, MSE of client  1  is:  tensor(0.0183, grad_fn=<AddBackward0>)\n",
            "2, MSE of client  2  is:  tensor(0.0434, grad_fn=<AddBackward0>)\n",
            "3, MSE of client  3  is:  tensor(0.0779, grad_fn=<AddBackward0>)\n",
            "4, MSE of client  4  is:  tensor(0.1503, grad_fn=<AddBackward0>)\n",
            "5, MSE of client  5  is:  tensor(0.2972, grad_fn=<AddBackward0>)\n",
            "Global Round: 49 Average MSE across all clients :  tensor(0.1174, grad_fn=<DivBackward0>)\n",
            "1, MSE of client  1  is:  tensor(0.0178, grad_fn=<AddBackward0>)\n",
            "2, MSE of client  2  is:  tensor(0.0429, grad_fn=<AddBackward0>)\n",
            "3, MSE of client  3  is:  tensor(0.0778, grad_fn=<AddBackward0>)\n",
            "4, MSE of client  4  is:  tensor(0.1500, grad_fn=<AddBackward0>)\n",
            "5, MSE of client  5  is:  tensor(0.2968, grad_fn=<AddBackward0>)\n",
            "Global Round: 50 Average MSE across all clients :  tensor(0.1171, grad_fn=<DivBackward0>)\n",
            "1, MSE of client  1  is:  tensor(0.0174, grad_fn=<AddBackward0>)\n",
            "2, MSE of client  2  is:  tensor(0.0424, grad_fn=<AddBackward0>)\n",
            "3, MSE of client  3  is:  tensor(0.0777, grad_fn=<AddBackward0>)\n",
            "4, MSE of client  4  is:  tensor(0.1497, grad_fn=<AddBackward0>)\n",
            "5, MSE of client  5  is:  tensor(0.2965, grad_fn=<AddBackward0>)\n",
            "Global Round: 51 Average MSE across all clients :  tensor(0.1168, grad_fn=<DivBackward0>)\n",
            "1, MSE of client  1  is:  tensor(0.0170, grad_fn=<AddBackward0>)\n",
            "2, MSE of client  2  is:  tensor(0.0420, grad_fn=<AddBackward0>)\n",
            "3, MSE of client  3  is:  tensor(0.0777, grad_fn=<AddBackward0>)\n",
            "4, MSE of client  4  is:  tensor(0.1494, grad_fn=<AddBackward0>)\n",
            "5, MSE of client  5  is:  tensor(0.2962, grad_fn=<AddBackward0>)\n",
            "Global Round: 52 Average MSE across all clients :  tensor(0.1165, grad_fn=<DivBackward0>)\n",
            "1, MSE of client  1  is:  tensor(0.0167, grad_fn=<AddBackward0>)\n",
            "2, MSE of client  2  is:  tensor(0.0416, grad_fn=<AddBackward0>)\n",
            "3, MSE of client  3  is:  tensor(0.0777, grad_fn=<AddBackward0>)\n",
            "4, MSE of client  4  is:  tensor(0.1492, grad_fn=<AddBackward0>)\n",
            "5, MSE of client  5  is:  tensor(0.2960, grad_fn=<AddBackward0>)\n",
            "Global Round: 53 Average MSE across all clients :  tensor(0.1162, grad_fn=<DivBackward0>)\n",
            "1, MSE of client  1  is:  tensor(0.0164, grad_fn=<AddBackward0>)\n",
            "2, MSE of client  2  is:  tensor(0.0412, grad_fn=<AddBackward0>)\n",
            "3, MSE of client  3  is:  tensor(0.0777, grad_fn=<AddBackward0>)\n",
            "4, MSE of client  4  is:  tensor(0.1490, grad_fn=<AddBackward0>)\n",
            "5, MSE of client  5  is:  tensor(0.2957, grad_fn=<AddBackward0>)\n",
            "Global Round: 54 Average MSE across all clients :  tensor(0.1160, grad_fn=<DivBackward0>)\n",
            "1, MSE of client  1  is:  tensor(0.0160, grad_fn=<AddBackward0>)\n",
            "2, MSE of client  2  is:  tensor(0.0408, grad_fn=<AddBackward0>)\n",
            "3, MSE of client  3  is:  tensor(0.0777, grad_fn=<AddBackward0>)\n",
            "4, MSE of client  4  is:  tensor(0.1488, grad_fn=<AddBackward0>)\n",
            "5, MSE of client  5  is:  tensor(0.2955, grad_fn=<AddBackward0>)\n",
            "Global Round: 55 Average MSE across all clients :  tensor(0.1157, grad_fn=<DivBackward0>)\n",
            "1, MSE of client  1  is:  tensor(0.0158, grad_fn=<AddBackward0>)\n",
            "2, MSE of client  2  is:  tensor(0.0405, grad_fn=<AddBackward0>)\n",
            "3, MSE of client  3  is:  tensor(0.0777, grad_fn=<AddBackward0>)\n",
            "4, MSE of client  4  is:  tensor(0.1486, grad_fn=<AddBackward0>)\n",
            "5, MSE of client  5  is:  tensor(0.2953, grad_fn=<AddBackward0>)\n",
            "Global Round: 56 Average MSE across all clients :  tensor(0.1155, grad_fn=<DivBackward0>)\n",
            "1, MSE of client  1  is:  tensor(0.0155, grad_fn=<AddBackward0>)\n",
            "2, MSE of client  2  is:  tensor(0.0401, grad_fn=<AddBackward0>)\n",
            "3, MSE of client  3  is:  tensor(0.0777, grad_fn=<AddBackward0>)\n",
            "4, MSE of client  4  is:  tensor(0.1484, grad_fn=<AddBackward0>)\n",
            "5, MSE of client  5  is:  tensor(0.2951, grad_fn=<AddBackward0>)\n",
            "Global Round: 57 Average MSE across all clients :  tensor(0.1153, grad_fn=<DivBackward0>)\n",
            "1, MSE of client  1  is:  tensor(0.0152, grad_fn=<AddBackward0>)\n",
            "2, MSE of client  2  is:  tensor(0.0398, grad_fn=<AddBackward0>)\n",
            "3, MSE of client  3  is:  tensor(0.0777, grad_fn=<AddBackward0>)\n",
            "4, MSE of client  4  is:  tensor(0.1482, grad_fn=<AddBackward0>)\n",
            "5, MSE of client  5  is:  tensor(0.2949, grad_fn=<AddBackward0>)\n",
            "Global Round: 58 Average MSE across all clients :  tensor(0.1152, grad_fn=<DivBackward0>)\n",
            "1, MSE of client  1  is:  tensor(0.0150, grad_fn=<AddBackward0>)\n",
            "2, MSE of client  2  is:  tensor(0.0395, grad_fn=<AddBackward0>)\n",
            "3, MSE of client  3  is:  tensor(0.0777, grad_fn=<AddBackward0>)\n",
            "4, MSE of client  4  is:  tensor(0.1481, grad_fn=<AddBackward0>)\n",
            "5, MSE of client  5  is:  tensor(0.2947, grad_fn=<AddBackward0>)\n",
            "Global Round: 59 Average MSE across all clients :  tensor(0.1150, grad_fn=<DivBackward0>)\n",
            "1, MSE of client  1  is:  tensor(0.0148, grad_fn=<AddBackward0>)\n",
            "2, MSE of client  2  is:  tensor(0.0393, grad_fn=<AddBackward0>)\n",
            "3, MSE of client  3  is:  tensor(0.0778, grad_fn=<AddBackward0>)\n",
            "4, MSE of client  4  is:  tensor(0.1480, grad_fn=<AddBackward0>)\n",
            "5, MSE of client  5  is:  tensor(0.2945, grad_fn=<AddBackward0>)\n",
            "Global Round: 60 Average MSE across all clients :  tensor(0.1149, grad_fn=<DivBackward0>)\n",
            "1, MSE of client  1  is:  tensor(0.0146, grad_fn=<AddBackward0>)\n",
            "2, MSE of client  2  is:  tensor(0.0390, grad_fn=<AddBackward0>)\n",
            "3, MSE of client  3  is:  tensor(0.0778, grad_fn=<AddBackward0>)\n",
            "4, MSE of client  4  is:  tensor(0.1478, grad_fn=<AddBackward0>)\n",
            "5, MSE of client  5  is:  tensor(0.2944, grad_fn=<AddBackward0>)\n",
            "Global Round: 61 Average MSE across all clients :  tensor(0.1147, grad_fn=<DivBackward0>)\n",
            "1, MSE of client  1  is:  tensor(0.0144, grad_fn=<AddBackward0>)\n",
            "2, MSE of client  2  is:  tensor(0.0388, grad_fn=<AddBackward0>)\n",
            "3, MSE of client  3  is:  tensor(0.0778, grad_fn=<AddBackward0>)\n",
            "4, MSE of client  4  is:  tensor(0.1477, grad_fn=<AddBackward0>)\n",
            "5, MSE of client  5  is:  tensor(0.2943, grad_fn=<AddBackward0>)\n",
            "Global Round: 62 Average MSE across all clients :  tensor(0.1146, grad_fn=<DivBackward0>)\n",
            "1, MSE of client  1  is:  tensor(0.0142, grad_fn=<AddBackward0>)\n",
            "2, MSE of client  2  is:  tensor(0.0385, grad_fn=<AddBackward0>)\n",
            "3, MSE of client  3  is:  tensor(0.0779, grad_fn=<AddBackward0>)\n",
            "4, MSE of client  4  is:  tensor(0.1476, grad_fn=<AddBackward0>)\n",
            "5, MSE of client  5  is:  tensor(0.2942, grad_fn=<AddBackward0>)\n",
            "Global Round: 63 Average MSE across all clients :  tensor(0.1145, grad_fn=<DivBackward0>)\n",
            "1, MSE of client  1  is:  tensor(0.0140, grad_fn=<AddBackward0>)\n",
            "2, MSE of client  2  is:  tensor(0.0383, grad_fn=<AddBackward0>)\n",
            "3, MSE of client  3  is:  tensor(0.0779, grad_fn=<AddBackward0>)\n",
            "4, MSE of client  4  is:  tensor(0.1476, grad_fn=<AddBackward0>)\n",
            "5, MSE of client  5  is:  tensor(0.2941, grad_fn=<AddBackward0>)\n",
            "Global Round: 64 Average MSE across all clients :  tensor(0.1144, grad_fn=<DivBackward0>)\n",
            "1, MSE of client  1  is:  tensor(0.0139, grad_fn=<AddBackward0>)\n",
            "2, MSE of client  2  is:  tensor(0.0381, grad_fn=<AddBackward0>)\n",
            "3, MSE of client  3  is:  tensor(0.0780, grad_fn=<AddBackward0>)\n",
            "4, MSE of client  4  is:  tensor(0.1475, grad_fn=<AddBackward0>)\n",
            "5, MSE of client  5  is:  tensor(0.2940, grad_fn=<AddBackward0>)\n",
            "Global Round: 65 Average MSE across all clients :  tensor(0.1143, grad_fn=<DivBackward0>)\n",
            "1, MSE of client  1  is:  tensor(0.0137, grad_fn=<AddBackward0>)\n",
            "2, MSE of client  2  is:  tensor(0.0379, grad_fn=<AddBackward0>)\n",
            "3, MSE of client  3  is:  tensor(0.0781, grad_fn=<AddBackward0>)\n",
            "4, MSE of client  4  is:  tensor(0.1474, grad_fn=<AddBackward0>)\n",
            "5, MSE of client  5  is:  tensor(0.2939, grad_fn=<AddBackward0>)\n",
            "Global Round: 66 Average MSE across all clients :  tensor(0.1142, grad_fn=<DivBackward0>)\n",
            "1, MSE of client  1  is:  tensor(0.0136, grad_fn=<AddBackward0>)\n",
            "2, MSE of client  2  is:  tensor(0.0377, grad_fn=<AddBackward0>)\n",
            "3, MSE of client  3  is:  tensor(0.0781, grad_fn=<AddBackward0>)\n",
            "4, MSE of client  4  is:  tensor(0.1473, grad_fn=<AddBackward0>)\n",
            "5, MSE of client  5  is:  tensor(0.2938, grad_fn=<AddBackward0>)\n",
            "Global Round: 67 Average MSE across all clients :  tensor(0.1141, grad_fn=<DivBackward0>)\n",
            "1, MSE of client  1  is:  tensor(0.0135, grad_fn=<AddBackward0>)\n",
            "2, MSE of client  2  is:  tensor(0.0376, grad_fn=<AddBackward0>)\n",
            "3, MSE of client  3  is:  tensor(0.0782, grad_fn=<AddBackward0>)\n",
            "4, MSE of client  4  is:  tensor(0.1473, grad_fn=<AddBackward0>)\n",
            "5, MSE of client  5  is:  tensor(0.2937, grad_fn=<AddBackward0>)\n",
            "Global Round: 68 Average MSE across all clients :  tensor(0.1141, grad_fn=<DivBackward0>)\n",
            "1, MSE of client  1  is:  tensor(0.0134, grad_fn=<AddBackward0>)\n",
            "2, MSE of client  2  is:  tensor(0.0374, grad_fn=<AddBackward0>)\n",
            "3, MSE of client  3  is:  tensor(0.0783, grad_fn=<AddBackward0>)\n",
            "4, MSE of client  4  is:  tensor(0.1472, grad_fn=<AddBackward0>)\n",
            "5, MSE of client  5  is:  tensor(0.2936, grad_fn=<AddBackward0>)\n",
            "Global Round: 69 Average MSE across all clients :  tensor(0.1140, grad_fn=<DivBackward0>)\n",
            "1, MSE of client  1  is:  tensor(0.0133, grad_fn=<AddBackward0>)\n",
            "2, MSE of client  2  is:  tensor(0.0373, grad_fn=<AddBackward0>)\n",
            "3, MSE of client  3  is:  tensor(0.0783, grad_fn=<AddBackward0>)\n",
            "4, MSE of client  4  is:  tensor(0.1472, grad_fn=<AddBackward0>)\n",
            "5, MSE of client  5  is:  tensor(0.2936, grad_fn=<AddBackward0>)\n",
            "Global Round: 70 Average MSE across all clients :  tensor(0.1139, grad_fn=<DivBackward0>)\n",
            "1, MSE of client  1  is:  tensor(0.0132, grad_fn=<AddBackward0>)\n",
            "2, MSE of client  2  is:  tensor(0.0371, grad_fn=<AddBackward0>)\n",
            "3, MSE of client  3  is:  tensor(0.0784, grad_fn=<AddBackward0>)\n",
            "4, MSE of client  4  is:  tensor(0.1472, grad_fn=<AddBackward0>)\n",
            "5, MSE of client  5  is:  tensor(0.2935, grad_fn=<AddBackward0>)\n",
            "Global Round: 71 Average MSE across all clients :  tensor(0.1139, grad_fn=<DivBackward0>)\n",
            "1, MSE of client  1  is:  tensor(0.0131, grad_fn=<AddBackward0>)\n",
            "2, MSE of client  2  is:  tensor(0.0370, grad_fn=<AddBackward0>)\n",
            "3, MSE of client  3  is:  tensor(0.0785, grad_fn=<AddBackward0>)\n",
            "4, MSE of client  4  is:  tensor(0.1471, grad_fn=<AddBackward0>)\n",
            "5, MSE of client  5  is:  tensor(0.2935, grad_fn=<AddBackward0>)\n",
            "Global Round: 72 Average MSE across all clients :  tensor(0.1138, grad_fn=<DivBackward0>)\n",
            "1, MSE of client  1  is:  tensor(0.0130, grad_fn=<AddBackward0>)\n",
            "2, MSE of client  2  is:  tensor(0.0369, grad_fn=<AddBackward0>)\n",
            "3, MSE of client  3  is:  tensor(0.0785, grad_fn=<AddBackward0>)\n",
            "4, MSE of client  4  is:  tensor(0.1471, grad_fn=<AddBackward0>)\n",
            "5, MSE of client  5  is:  tensor(0.2934, grad_fn=<AddBackward0>)\n",
            "Global Round: 73 Average MSE across all clients :  tensor(0.1138, grad_fn=<DivBackward0>)\n",
            "1, MSE of client  1  is:  tensor(0.0129, grad_fn=<AddBackward0>)\n",
            "2, MSE of client  2  is:  tensor(0.0367, grad_fn=<AddBackward0>)\n",
            "3, MSE of client  3  is:  tensor(0.0786, grad_fn=<AddBackward0>)\n",
            "4, MSE of client  4  is:  tensor(0.1471, grad_fn=<AddBackward0>)\n",
            "5, MSE of client  5  is:  tensor(0.2934, grad_fn=<AddBackward0>)\n",
            "Global Round: 74 Average MSE across all clients :  tensor(0.1138, grad_fn=<DivBackward0>)\n",
            "1, MSE of client  1  is:  tensor(0.0128, grad_fn=<AddBackward0>)\n",
            "2, MSE of client  2  is:  tensor(0.0366, grad_fn=<AddBackward0>)\n",
            "3, MSE of client  3  is:  tensor(0.0787, grad_fn=<AddBackward0>)\n",
            "4, MSE of client  4  is:  tensor(0.1471, grad_fn=<AddBackward0>)\n",
            "5, MSE of client  5  is:  tensor(0.2934, grad_fn=<AddBackward0>)\n",
            "Global Round: 75 Average MSE across all clients :  tensor(0.1137, grad_fn=<DivBackward0>)\n",
            "1, MSE of client  1  is:  tensor(0.0128, grad_fn=<AddBackward0>)\n",
            "2, MSE of client  2  is:  tensor(0.0365, grad_fn=<AddBackward0>)\n",
            "3, MSE of client  3  is:  tensor(0.0788, grad_fn=<AddBackward0>)\n",
            "4, MSE of client  4  is:  tensor(0.1471, grad_fn=<AddBackward0>)\n",
            "5, MSE of client  5  is:  tensor(0.2933, grad_fn=<AddBackward0>)\n",
            "Global Round: 76 Average MSE across all clients :  tensor(0.1137, grad_fn=<DivBackward0>)\n",
            "1, MSE of client  1  is:  tensor(0.0127, grad_fn=<AddBackward0>)\n",
            "2, MSE of client  2  is:  tensor(0.0364, grad_fn=<AddBackward0>)\n",
            "3, MSE of client  3  is:  tensor(0.0788, grad_fn=<AddBackward0>)\n",
            "4, MSE of client  4  is:  tensor(0.1470, grad_fn=<AddBackward0>)\n",
            "5, MSE of client  5  is:  tensor(0.2933, grad_fn=<AddBackward0>)\n",
            "Global Round: 77 Average MSE across all clients :  tensor(0.1137, grad_fn=<DivBackward0>)\n",
            "1, MSE of client  1  is:  tensor(0.0126, grad_fn=<AddBackward0>)\n",
            "2, MSE of client  2  is:  tensor(0.0363, grad_fn=<AddBackward0>)\n",
            "3, MSE of client  3  is:  tensor(0.0789, grad_fn=<AddBackward0>)\n",
            "4, MSE of client  4  is:  tensor(0.1470, grad_fn=<AddBackward0>)\n",
            "5, MSE of client  5  is:  tensor(0.2933, grad_fn=<AddBackward0>)\n",
            "Global Round: 78 Average MSE across all clients :  tensor(0.1136, grad_fn=<DivBackward0>)\n",
            "1, MSE of client  1  is:  tensor(0.0126, grad_fn=<AddBackward0>)\n",
            "2, MSE of client  2  is:  tensor(0.0362, grad_fn=<AddBackward0>)\n",
            "3, MSE of client  3  is:  tensor(0.0790, grad_fn=<AddBackward0>)\n",
            "4, MSE of client  4  is:  tensor(0.1470, grad_fn=<AddBackward0>)\n",
            "5, MSE of client  5  is:  tensor(0.2933, grad_fn=<AddBackward0>)\n",
            "Global Round: 79 Average MSE across all clients :  tensor(0.1136, grad_fn=<DivBackward0>)\n",
            "1, MSE of client  1  is:  tensor(0.0125, grad_fn=<AddBackward0>)\n",
            "2, MSE of client  2  is:  tensor(0.0362, grad_fn=<AddBackward0>)\n",
            "3, MSE of client  3  is:  tensor(0.0791, grad_fn=<AddBackward0>)\n",
            "4, MSE of client  4  is:  tensor(0.1470, grad_fn=<AddBackward0>)\n",
            "5, MSE of client  5  is:  tensor(0.2933, grad_fn=<AddBackward0>)\n",
            "Global Round: 80 Average MSE across all clients :  tensor(0.1136, grad_fn=<DivBackward0>)\n",
            "1, MSE of client  1  is:  tensor(0.0125, grad_fn=<AddBackward0>)\n",
            "2, MSE of client  2  is:  tensor(0.0361, grad_fn=<AddBackward0>)\n",
            "3, MSE of client  3  is:  tensor(0.0791, grad_fn=<AddBackward0>)\n",
            "4, MSE of client  4  is:  tensor(0.1470, grad_fn=<AddBackward0>)\n",
            "5, MSE of client  5  is:  tensor(0.2933, grad_fn=<AddBackward0>)\n",
            "Global Round: 81 Average MSE across all clients :  tensor(0.1136, grad_fn=<DivBackward0>)\n",
            "1, MSE of client  1  is:  tensor(0.0124, grad_fn=<AddBackward0>)\n",
            "2, MSE of client  2  is:  tensor(0.0360, grad_fn=<AddBackward0>)\n",
            "3, MSE of client  3  is:  tensor(0.0792, grad_fn=<AddBackward0>)\n",
            "4, MSE of client  4  is:  tensor(0.1470, grad_fn=<AddBackward0>)\n",
            "5, MSE of client  5  is:  tensor(0.2932, grad_fn=<AddBackward0>)\n",
            "Global Round: 82 Average MSE across all clients :  tensor(0.1136, grad_fn=<DivBackward0>)\n",
            "1, MSE of client  1  is:  tensor(0.0124, grad_fn=<AddBackward0>)\n",
            "2, MSE of client  2  is:  tensor(0.0359, grad_fn=<AddBackward0>)\n",
            "3, MSE of client  3  is:  tensor(0.0793, grad_fn=<AddBackward0>)\n",
            "4, MSE of client  4  is:  tensor(0.1470, grad_fn=<AddBackward0>)\n",
            "5, MSE of client  5  is:  tensor(0.2932, grad_fn=<AddBackward0>)\n",
            "Global Round: 83 Average MSE across all clients :  tensor(0.1136, grad_fn=<DivBackward0>)\n",
            "1, MSE of client  1  is:  tensor(0.0123, grad_fn=<AddBackward0>)\n",
            "2, MSE of client  2  is:  tensor(0.0359, grad_fn=<AddBackward0>)\n",
            "3, MSE of client  3  is:  tensor(0.0793, grad_fn=<AddBackward0>)\n",
            "4, MSE of client  4  is:  tensor(0.1471, grad_fn=<AddBackward0>)\n",
            "5, MSE of client  5  is:  tensor(0.2932, grad_fn=<AddBackward0>)\n",
            "Global Round: 84 Average MSE across all clients :  tensor(0.1136, grad_fn=<DivBackward0>)\n",
            "1, MSE of client  1  is:  tensor(0.0123, grad_fn=<AddBackward0>)\n",
            "2, MSE of client  2  is:  tensor(0.0358, grad_fn=<AddBackward0>)\n",
            "3, MSE of client  3  is:  tensor(0.0794, grad_fn=<AddBackward0>)\n",
            "4, MSE of client  4  is:  tensor(0.1471, grad_fn=<AddBackward0>)\n",
            "5, MSE of client  5  is:  tensor(0.2932, grad_fn=<AddBackward0>)\n",
            "Global Round: 85 Average MSE across all clients :  tensor(0.1136, grad_fn=<DivBackward0>)\n",
            "1, MSE of client  1  is:  tensor(0.0123, grad_fn=<AddBackward0>)\n",
            "2, MSE of client  2  is:  tensor(0.0357, grad_fn=<AddBackward0>)\n",
            "3, MSE of client  3  is:  tensor(0.0795, grad_fn=<AddBackward0>)\n",
            "4, MSE of client  4  is:  tensor(0.1471, grad_fn=<AddBackward0>)\n",
            "5, MSE of client  5  is:  tensor(0.2932, grad_fn=<AddBackward0>)\n",
            "Global Round: 86 Average MSE across all clients :  tensor(0.1136, grad_fn=<DivBackward0>)\n",
            "1, MSE of client  1  is:  tensor(0.0123, grad_fn=<AddBackward0>)\n",
            "2, MSE of client  2  is:  tensor(0.0357, grad_fn=<AddBackward0>)\n",
            "3, MSE of client  3  is:  tensor(0.0796, grad_fn=<AddBackward0>)\n",
            "4, MSE of client  4  is:  tensor(0.1471, grad_fn=<AddBackward0>)\n",
            "5, MSE of client  5  is:  tensor(0.2932, grad_fn=<AddBackward0>)\n",
            "Global Round: 87 Average MSE across all clients :  tensor(0.1136, grad_fn=<DivBackward0>)\n",
            "1, MSE of client  1  is:  tensor(0.0122, grad_fn=<AddBackward0>)\n",
            "2, MSE of client  2  is:  tensor(0.0356, grad_fn=<AddBackward0>)\n",
            "3, MSE of client  3  is:  tensor(0.0796, grad_fn=<AddBackward0>)\n",
            "4, MSE of client  4  is:  tensor(0.1471, grad_fn=<AddBackward0>)\n",
            "5, MSE of client  5  is:  tensor(0.2932, grad_fn=<AddBackward0>)\n",
            "Global Round: 88 Average MSE across all clients :  tensor(0.1136, grad_fn=<DivBackward0>)\n",
            "1, MSE of client  1  is:  tensor(0.0122, grad_fn=<AddBackward0>)\n",
            "2, MSE of client  2  is:  tensor(0.0356, grad_fn=<AddBackward0>)\n",
            "3, MSE of client  3  is:  tensor(0.0797, grad_fn=<AddBackward0>)\n",
            "4, MSE of client  4  is:  tensor(0.1471, grad_fn=<AddBackward0>)\n",
            "5, MSE of client  5  is:  tensor(0.2932, grad_fn=<AddBackward0>)\n",
            "Global Round: 89 Average MSE across all clients :  tensor(0.1136, grad_fn=<DivBackward0>)\n",
            "1, MSE of client  1  is:  tensor(0.0122, grad_fn=<AddBackward0>)\n",
            "2, MSE of client  2  is:  tensor(0.0355, grad_fn=<AddBackward0>)\n",
            "3, MSE of client  3  is:  tensor(0.0798, grad_fn=<AddBackward0>)\n",
            "4, MSE of client  4  is:  tensor(0.1471, grad_fn=<AddBackward0>)\n",
            "5, MSE of client  5  is:  tensor(0.2932, grad_fn=<AddBackward0>)\n",
            "Global Round: 90 Average MSE across all clients :  tensor(0.1136, grad_fn=<DivBackward0>)\n",
            "1, MSE of client  1  is:  tensor(0.0122, grad_fn=<AddBackward0>)\n",
            "2, MSE of client  2  is:  tensor(0.0355, grad_fn=<AddBackward0>)\n",
            "3, MSE of client  3  is:  tensor(0.0798, grad_fn=<AddBackward0>)\n",
            "4, MSE of client  4  is:  tensor(0.1471, grad_fn=<AddBackward0>)\n",
            "5, MSE of client  5  is:  tensor(0.2932, grad_fn=<AddBackward0>)\n",
            "Global Round: 91 Average MSE across all clients :  tensor(0.1136, grad_fn=<DivBackward0>)\n",
            "1, MSE of client  1  is:  tensor(0.0121, grad_fn=<AddBackward0>)\n",
            "2, MSE of client  2  is:  tensor(0.0355, grad_fn=<AddBackward0>)\n",
            "3, MSE of client  3  is:  tensor(0.0799, grad_fn=<AddBackward0>)\n",
            "4, MSE of client  4  is:  tensor(0.1471, grad_fn=<AddBackward0>)\n",
            "5, MSE of client  5  is:  tensor(0.2932, grad_fn=<AddBackward0>)\n",
            "Global Round: 92 Average MSE across all clients :  tensor(0.1136, grad_fn=<DivBackward0>)\n",
            "1, MSE of client  1  is:  tensor(0.0121, grad_fn=<AddBackward0>)\n",
            "2, MSE of client  2  is:  tensor(0.0354, grad_fn=<AddBackward0>)\n",
            "3, MSE of client  3  is:  tensor(0.0799, grad_fn=<AddBackward0>)\n",
            "4, MSE of client  4  is:  tensor(0.1472, grad_fn=<AddBackward0>)\n",
            "5, MSE of client  5  is:  tensor(0.2932, grad_fn=<AddBackward0>)\n",
            "Global Round: 93 Average MSE across all clients :  tensor(0.1136, grad_fn=<DivBackward0>)\n",
            "1, MSE of client  1  is:  tensor(0.0121, grad_fn=<AddBackward0>)\n",
            "2, MSE of client  2  is:  tensor(0.0354, grad_fn=<AddBackward0>)\n",
            "3, MSE of client  3  is:  tensor(0.0800, grad_fn=<AddBackward0>)\n",
            "4, MSE of client  4  is:  tensor(0.1472, grad_fn=<AddBackward0>)\n",
            "5, MSE of client  5  is:  tensor(0.2932, grad_fn=<AddBackward0>)\n",
            "Global Round: 94 Average MSE across all clients :  tensor(0.1136, grad_fn=<DivBackward0>)\n",
            "1, MSE of client  1  is:  tensor(0.0121, grad_fn=<AddBackward0>)\n",
            "2, MSE of client  2  is:  tensor(0.0353, grad_fn=<AddBackward0>)\n",
            "3, MSE of client  3  is:  tensor(0.0801, grad_fn=<AddBackward0>)\n",
            "4, MSE of client  4  is:  tensor(0.1472, grad_fn=<AddBackward0>)\n",
            "5, MSE of client  5  is:  tensor(0.2933, grad_fn=<AddBackward0>)\n",
            "Global Round: 95 Average MSE across all clients :  tensor(0.1136, grad_fn=<DivBackward0>)\n",
            "1, MSE of client  1  is:  tensor(0.0121, grad_fn=<AddBackward0>)\n",
            "2, MSE of client  2  is:  tensor(0.0353, grad_fn=<AddBackward0>)\n",
            "3, MSE of client  3  is:  tensor(0.0801, grad_fn=<AddBackward0>)\n",
            "4, MSE of client  4  is:  tensor(0.1472, grad_fn=<AddBackward0>)\n",
            "5, MSE of client  5  is:  tensor(0.2933, grad_fn=<AddBackward0>)\n",
            "Global Round: 96 Average MSE across all clients :  tensor(0.1136, grad_fn=<DivBackward0>)\n",
            "1, MSE of client  1  is:  tensor(0.0121, grad_fn=<AddBackward0>)\n",
            "2, MSE of client  2  is:  tensor(0.0353, grad_fn=<AddBackward0>)\n",
            "3, MSE of client  3  is:  tensor(0.0802, grad_fn=<AddBackward0>)\n",
            "4, MSE of client  4  is:  tensor(0.1472, grad_fn=<AddBackward0>)\n",
            "5, MSE of client  5  is:  tensor(0.2933, grad_fn=<AddBackward0>)\n",
            "Global Round: 97 Average MSE across all clients :  tensor(0.1136, grad_fn=<DivBackward0>)\n",
            "1, MSE of client  1  is:  tensor(0.0120, grad_fn=<AddBackward0>)\n",
            "2, MSE of client  2  is:  tensor(0.0352, grad_fn=<AddBackward0>)\n",
            "3, MSE of client  3  is:  tensor(0.0802, grad_fn=<AddBackward0>)\n",
            "4, MSE of client  4  is:  tensor(0.1472, grad_fn=<AddBackward0>)\n",
            "5, MSE of client  5  is:  tensor(0.2933, grad_fn=<AddBackward0>)\n",
            "Global Round: 98 Average MSE across all clients :  tensor(0.1136, grad_fn=<DivBackward0>)\n",
            "1, MSE of client  1  is:  tensor(0.0120, grad_fn=<AddBackward0>)\n",
            "2, MSE of client  2  is:  tensor(0.0352, grad_fn=<AddBackward0>)\n",
            "3, MSE of client  3  is:  tensor(0.0803, grad_fn=<AddBackward0>)\n",
            "4, MSE of client  4  is:  tensor(0.1473, grad_fn=<AddBackward0>)\n",
            "5, MSE of client  5  is:  tensor(0.2933, grad_fn=<AddBackward0>)\n",
            "Global Round: 99 Average MSE across all clients :  tensor(0.1136, grad_fn=<DivBackward0>)\n",
            "1, MSE of client  1  is:  tensor(0.0120, grad_fn=<AddBackward0>)\n",
            "2, MSE of client  2  is:  tensor(0.0352, grad_fn=<AddBackward0>)\n",
            "3, MSE of client  3  is:  tensor(0.0803, grad_fn=<AddBackward0>)\n",
            "4, MSE of client  4  is:  tensor(0.1473, grad_fn=<AddBackward0>)\n",
            "5, MSE of client  5  is:  tensor(0.2933, grad_fn=<AddBackward0>)\n",
            "Global Round: 100 Average MSE across all clients :  tensor(0.1136, grad_fn=<DivBackward0>)\n"
          ]
        }
      ],
      "source": [
        "# Runing FedAvg\n",
        "train_mse = []\n",
        "test_mse = []\n",
        "\n",
        "for glob_iter in range(num_glob_iters):\n",
        "\n",
        "    # TODO: Broadcast global model to all clients\n",
        "    send_parameters(server_model,users)\n",
        "\n",
        "    # Evaluate the global model across all clients\n",
        "    avg_mse = evaluate(users)\n",
        "    test_mse.append(avg_mse.item())\n",
        "    print(\"Global Round:\", glob_iter + 1, \"Average MSE across all clients : \", avg_mse)\n",
        "\n",
        "    # Each client keeps training process to  obtain new local model from the global model\n",
        "    avgLoss = 0\n",
        "    for user in users:\n",
        "        # Each user trains the local model for 2 epochs\n",
        "        avgLoss += user.train(2)\n",
        "    # Above process training all clients and all client paricipate to server, how can we just select subset of user for aggregation\n",
        "    train_mse.append(avgLoss)\n",
        "\n",
        "    # TODO:  Aggregate all clients model to obtain new global model\n",
        "    aggregate_parameters(server_model, users, total_train_samples)"
      ]
    },
    {
      "cell_type": "markdown",
      "metadata": {
        "id": "cyXRx9DgioDn"
      },
      "source": [
        "Plot average training loss across all clients during training"
      ]
    },
    {
      "cell_type": "code",
      "execution_count": 17,
      "metadata": {
        "colab": {
          "base_uri": "https://localhost:8080/",
          "height": 465
        },
        "id": "M4lkszRTioDo",
        "outputId": "b7571d0c-b5d7-49ba-d7b2-343078799abf"
      },
      "outputs": [
        {
          "data": {
            "image/png": "[encoded data removed]",
            "text/plain": [
              "<Figure size 500x500 with 1 Axes>"
            ]
          },
          "metadata": {},
          "output_type": "display_data"
        }
      ],
      "source": [
        "plt.figure(1,figsize=(5, 5))\n",
        "plt.plot(train_mse, label=\"FedAvg\", linewidth  = 1)\n",
        "plt.legend(loc='upper right', prop={'size': 12}, ncol=2)\n",
        "plt.ylabel('Training Loss')\n",
        "plt.xlabel('Global rounds')\n",
        "plt.show()"
      ]
    },
    {
      "cell_type": "markdown",
      "metadata": {
        "id": "GLoCQMjhioDo"
      },
      "source": [
        "Plot average testing accuracy across all clients during training"
      ]
    },
    {
      "cell_type": "code",
      "execution_count": 18,
      "metadata": {
        "colab": {
          "base_uri": "https://localhost:8080/",
          "height": 465
        },
        "id": "9tLaIhUYioDp",
        "outputId": "872ff787-3fc1-4745-f419-7d0cded374df"
      },
      "outputs": [
        {
          "data": {
            "image/png": "[encoded data removed]",
            "text/plain": [
              "<Figure size 500x500 with 1 Axes>"
            ]
          },
          "metadata": {},
          "output_type": "display_data"
        }
      ],
      "source": [
        "plt.figure(1,figsize=(5, 5))\n",
        "plt.plot(test_mse, label=\"FedAvg\", linewidth  = 1)\n",
        "#plt.ylim([0.9,  0.99])\n",
        "plt.legend(loc='upper right', prop={'size': 12}, ncol=2)\n",
        "plt.ylabel('Testing MSE')\n",
        "plt.xlabel('Global rounds')\n",
        "plt.show()"
      ]
    },
    {
      "cell_type": "markdown",
      "metadata": {
        "id": "jhzY0KDvI_ty"
      },
      "source": [
        "At the end, we can retrieve the weight and bias of the global linear model"
      ]
    },
    {
      "cell_type": "code",
      "execution_count": 19,
      "metadata": {
        "colab": {
          "base_uri": "https://localhost:8080/"
        },
        "id": "s1UORYUc9s9f",
        "outputId": "d6d692bd-487c-4f70-8b29-1a9cb13accfc"
      },
      "outputs": [
        {
          "name": "stdout",
          "output_type": "stream",
          "text": [
            "Weights: tensor([[2.9651]])\n",
            "Bias: tensor([4.0198])\n"
          ]
        }
      ],
      "source": [
        "weights = server_model.linear.weight.data\n",
        "bias = server_model.linear.bias.data\n",
        "\n",
        "print(\"Weights:\", weights)\n",
        "print(\"Bias:\", bias)"
      ]
    }
  ],
  "metadata": {
    "colab": {
      "provenance": []
    },
    "interpreter": {
      "hash": "13667919df36e9657633701c927789f579d155b93e542a58d668e546996ade4d"
    },
    "kernelspec": {
      "display_name": "Python 3.7.12 ('fedeq')",
      "language": "python",
      "name": "python3"
    },
    "language_info": {
      "codemirror_mode": {
        "name": "ipython",
        "version": 3
      },
      "file_extension": ".py",
      "mimetype": "text/x-python",
      "name": "python",
      "nbconvert_exporter": "python",
      "pygments_lexer": "ipython3",
      "version": "3.11.3"
    }
  },
  "nbformat": 4,
  "nbformat_minor": 0
}
